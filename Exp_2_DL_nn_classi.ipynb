{
  "cells": [
    {
      "cell_type": "code",
      "execution_count": 65,
      "metadata": {
        "id": "CWmDu_upyMHd"
      },
      "outputs": [],
      "source": [
        "# Creating the model\n",
        "ai_brain = Sequential([\n",
        "    Dense(20,input_shape=(8,)),\n",
        "    Dense(32,activation='relu'),\n",
        "    Dense(44,activation='relu'),\n",
        "    Dense(56,activation='relu'),\n",
        "    Dense(68,activation='relu'),\n",
        "    Dense(70,activation='relu'),\n",
        "    Dense(82,activation='relu'),\n",
        "    Dense(4,activation='softmax')\n",
        "])"
      ]
    },
    {
      "cell_type": "code",
      "source": [
        "import pandas as pd\n",
        "import numpy as np"
      ],
      "metadata": {
        "id": "z0PxHgG5Gtff"
      },
      "execution_count": 66,
      "outputs": []
    },
    {
      "cell_type": "code",
      "source": [
        "df=pd.read_csv(\"customers.csv\")"
      ],
      "metadata": {
        "id": "9vMtuVpOGzwu"
      },
      "execution_count": 67,
      "outputs": []
    },
    {
      "cell_type": "code",
      "source": [
        "df.head()"
      ],
      "metadata": {
        "colab": {
          "base_uri": "https://localhost:8080/",
          "height": 206
        },
        "id": "LDtTnTBUG2ig",
        "outputId": "b511ea8e-d57d-49e1-ab8d-ecff6c9ac22a"
      },
      "execution_count": 68,
      "outputs": [
        {
          "output_type": "execute_result",
          "data": {
            "text/plain": [
              "       ID  Gender Ever_Married  Age Graduated     Profession  Work_Experience  \\\n",
              "0  462809    Male           No   22        No     Healthcare              1.0   \n",
              "1  462643  Female          Yes   38       Yes       Engineer              NaN   \n",
              "2  466315  Female          Yes   67       Yes       Engineer              1.0   \n",
              "3  461735    Male          Yes   67       Yes         Lawyer              0.0   \n",
              "4  462669  Female          Yes   40       Yes  Entertainment              NaN   \n",
              "\n",
              "  Spending_Score  Family_Size  Var_1 Segmentation  \n",
              "0            Low          4.0  Cat_4            D  \n",
              "1        Average          3.0  Cat_4            A  \n",
              "2            Low          1.0  Cat_6            B  \n",
              "3           High          2.0  Cat_6            B  \n",
              "4           High          6.0  Cat_6            A  "
            ],
            "text/html": [
              "\n",
              "  <div id=\"df-24621048-a3c8-4a23-a22a-06a35059f8a3\">\n",
              "    <div class=\"colab-df-container\">\n",
              "      <div>\n",
              "<style scoped>\n",
              "    .dataframe tbody tr th:only-of-type {\n",
              "        vertical-align: middle;\n",
              "    }\n",
              "\n",
              "    .dataframe tbody tr th {\n",
              "        vertical-align: top;\n",
              "    }\n",
              "\n",
              "    .dataframe thead th {\n",
              "        text-align: right;\n",
              "    }\n",
              "</style>\n",
              "<table border=\"1\" class=\"dataframe\">\n",
              "  <thead>\n",
              "    <tr style=\"text-align: right;\">\n",
              "      <th></th>\n",
              "      <th>ID</th>\n",
              "      <th>Gender</th>\n",
              "      <th>Ever_Married</th>\n",
              "      <th>Age</th>\n",
              "      <th>Graduated</th>\n",
              "      <th>Profession</th>\n",
              "      <th>Work_Experience</th>\n",
              "      <th>Spending_Score</th>\n",
              "      <th>Family_Size</th>\n",
              "      <th>Var_1</th>\n",
              "      <th>Segmentation</th>\n",
              "    </tr>\n",
              "  </thead>\n",
              "  <tbody>\n",
              "    <tr>\n",
              "      <th>0</th>\n",
              "      <td>462809</td>\n",
              "      <td>Male</td>\n",
              "      <td>No</td>\n",
              "      <td>22</td>\n",
              "      <td>No</td>\n",
              "      <td>Healthcare</td>\n",
              "      <td>1.0</td>\n",
              "      <td>Low</td>\n",
              "      <td>4.0</td>\n",
              "      <td>Cat_4</td>\n",
              "      <td>D</td>\n",
              "    </tr>\n",
              "    <tr>\n",
              "      <th>1</th>\n",
              "      <td>462643</td>\n",
              "      <td>Female</td>\n",
              "      <td>Yes</td>\n",
              "      <td>38</td>\n",
              "      <td>Yes</td>\n",
              "      <td>Engineer</td>\n",
              "      <td>NaN</td>\n",
              "      <td>Average</td>\n",
              "      <td>3.0</td>\n",
              "      <td>Cat_4</td>\n",
              "      <td>A</td>\n",
              "    </tr>\n",
              "    <tr>\n",
              "      <th>2</th>\n",
              "      <td>466315</td>\n",
              "      <td>Female</td>\n",
              "      <td>Yes</td>\n",
              "      <td>67</td>\n",
              "      <td>Yes</td>\n",
              "      <td>Engineer</td>\n",
              "      <td>1.0</td>\n",
              "      <td>Low</td>\n",
              "      <td>1.0</td>\n",
              "      <td>Cat_6</td>\n",
              "      <td>B</td>\n",
              "    </tr>\n",
              "    <tr>\n",
              "      <th>3</th>\n",
              "      <td>461735</td>\n",
              "      <td>Male</td>\n",
              "      <td>Yes</td>\n",
              "      <td>67</td>\n",
              "      <td>Yes</td>\n",
              "      <td>Lawyer</td>\n",
              "      <td>0.0</td>\n",
              "      <td>High</td>\n",
              "      <td>2.0</td>\n",
              "      <td>Cat_6</td>\n",
              "      <td>B</td>\n",
              "    </tr>\n",
              "    <tr>\n",
              "      <th>4</th>\n",
              "      <td>462669</td>\n",
              "      <td>Female</td>\n",
              "      <td>Yes</td>\n",
              "      <td>40</td>\n",
              "      <td>Yes</td>\n",
              "      <td>Entertainment</td>\n",
              "      <td>NaN</td>\n",
              "      <td>High</td>\n",
              "      <td>6.0</td>\n",
              "      <td>Cat_6</td>\n",
              "      <td>A</td>\n",
              "    </tr>\n",
              "  </tbody>\n",
              "</table>\n",
              "</div>\n",
              "      <button class=\"colab-df-convert\" onclick=\"convertToInteractive('df-24621048-a3c8-4a23-a22a-06a35059f8a3')\"\n",
              "              title=\"Convert this dataframe to an interactive table.\"\n",
              "              style=\"display:none;\">\n",
              "        \n",
              "  <svg xmlns=\"http://www.w3.org/2000/svg\" height=\"24px\"viewBox=\"0 0 24 24\"\n",
              "       width=\"24px\">\n",
              "    <path d=\"M0 0h24v24H0V0z\" fill=\"none\"/>\n",
              "    <path d=\"M18.56 5.44l.94 2.06.94-2.06 2.06-.94-2.06-.94-.94-2.06-.94 2.06-2.06.94zm-11 1L8.5 8.5l.94-2.06 2.06-.94-2.06-.94L8.5 2.5l-.94 2.06-2.06.94zm10 10l.94 2.06.94-2.06 2.06-.94-2.06-.94-.94-2.06-.94 2.06-2.06.94z\"/><path d=\"M17.41 7.96l-1.37-1.37c-.4-.4-.92-.59-1.43-.59-.52 0-1.04.2-1.43.59L10.3 9.45l-7.72 7.72c-.78.78-.78 2.05 0 2.83L4 21.41c.39.39.9.59 1.41.59.51 0 1.02-.2 1.41-.59l7.78-7.78 2.81-2.81c.8-.78.8-2.07 0-2.86zM5.41 20L4 18.59l7.72-7.72 1.47 1.35L5.41 20z\"/>\n",
              "  </svg>\n",
              "      </button>\n",
              "      \n",
              "  <style>\n",
              "    .colab-df-container {\n",
              "      display:flex;\n",
              "      flex-wrap:wrap;\n",
              "      gap: 12px;\n",
              "    }\n",
              "\n",
              "    .colab-df-convert {\n",
              "      background-color: #E8F0FE;\n",
              "      border: none;\n",
              "      border-radius: 50%;\n",
              "      cursor: pointer;\n",
              "      display: none;\n",
              "      fill: #1967D2;\n",
              "      height: 32px;\n",
              "      padding: 0 0 0 0;\n",
              "      width: 32px;\n",
              "    }\n",
              "\n",
              "    .colab-df-convert:hover {\n",
              "      background-color: #E2EBFA;\n",
              "      box-shadow: 0px 1px 2px rgba(60, 64, 67, 0.3), 0px 1px 3px 1px rgba(60, 64, 67, 0.15);\n",
              "      fill: #174EA6;\n",
              "    }\n",
              "\n",
              "    [theme=dark] .colab-df-convert {\n",
              "      background-color: #3B4455;\n",
              "      fill: #D2E3FC;\n",
              "    }\n",
              "\n",
              "    [theme=dark] .colab-df-convert:hover {\n",
              "      background-color: #434B5C;\n",
              "      box-shadow: 0px 1px 3px 1px rgba(0, 0, 0, 0.15);\n",
              "      filter: drop-shadow(0px 1px 2px rgba(0, 0, 0, 0.3));\n",
              "      fill: #FFFFFF;\n",
              "    }\n",
              "  </style>\n",
              "\n",
              "      <script>\n",
              "        const buttonEl =\n",
              "          document.querySelector('#df-24621048-a3c8-4a23-a22a-06a35059f8a3 button.colab-df-convert');\n",
              "        buttonEl.style.display =\n",
              "          google.colab.kernel.accessAllowed ? 'block' : 'none';\n",
              "\n",
              "        async function convertToInteractive(key) {\n",
              "          const element = document.querySelector('#df-24621048-a3c8-4a23-a22a-06a35059f8a3');\n",
              "          const dataTable =\n",
              "            await google.colab.kernel.invokeFunction('convertToInteractive',\n",
              "                                                     [key], {});\n",
              "          if (!dataTable) return;\n",
              "\n",
              "          const docLinkHtml = 'Like what you see? Visit the ' +\n",
              "            '<a target=\"_blank\" href=https://colab.research.google.com/notebooks/data_table.ipynb>data table notebook</a>'\n",
              "            + ' to learn more about interactive tables.';\n",
              "          element.innerHTML = '';\n",
              "          dataTable['output_type'] = 'display_data';\n",
              "          await google.colab.output.renderOutput(dataTable, element);\n",
              "          const docLink = document.createElement('div');\n",
              "          docLink.innerHTML = docLinkHtml;\n",
              "          element.appendChild(docLink);\n",
              "        }\n",
              "      </script>\n",
              "    </div>\n",
              "  </div>\n",
              "  "
            ]
          },
          "metadata": {},
          "execution_count": 68
        }
      ]
    },
    {
      "cell_type": "code",
      "source": [
        "df=df.dropna(axis=0)"
      ],
      "metadata": {
        "id": "Fd8yfIWiG6Si"
      },
      "execution_count": 69,
      "outputs": []
    },
    {
      "cell_type": "code",
      "source": [
        "df[\"Segmentation\"].unique()"
      ],
      "metadata": {
        "colab": {
          "base_uri": "https://localhost:8080/"
        },
        "id": "tF-EvEZ-G-Nr",
        "outputId": "63c95cb9-dff4-4cd5-b11c-a0b8bbe6db57"
      },
      "execution_count": 70,
      "outputs": [
        {
          "output_type": "execute_result",
          "data": {
            "text/plain": [
              "array(['D', 'B', 'C', 'A'], dtype=object)"
            ]
          },
          "metadata": {},
          "execution_count": 70
        }
      ]
    },
    {
      "cell_type": "code",
      "source": [
        "import tensorflow as tf\n",
        "\n",
        "x=df.drop([\"Segmentation\",\"Var_1\",\"ID\"],axis=1)\n",
        "y=df[[\"Segmentation\"]].values"
      ],
      "metadata": {
        "id": "szOVFNL-HBos"
      },
      "execution_count": 71,
      "outputs": []
    },
    {
      "cell_type": "code",
      "source": [
        "df[\"Gender\"].unique(),df[\"Ever_Married\"].unique(),df[\"Graduated\"].unique(),df[\"Profession\"].unique(),df[\"Spending_Score\"].unique()"
      ],
      "metadata": {
        "colab": {
          "base_uri": "https://localhost:8080/"
        },
        "id": "LCwnp5QWHFqj",
        "outputId": "0552e177-810c-477e-9ee6-ff86864676c5"
      },
      "execution_count": 72,
      "outputs": [
        {
          "output_type": "execute_result",
          "data": {
            "text/plain": [
              "(array(['Male', 'Female'], dtype=object),\n",
              " array(['No', 'Yes'], dtype=object),\n",
              " array(['No', 'Yes'], dtype=object),\n",
              " array(['Healthcare', 'Engineer', 'Lawyer', 'Artist', 'Doctor',\n",
              "        'Homemaker', 'Entertainment', 'Marketing', 'Executive'],\n",
              "       dtype=object),\n",
              " array(['Low', 'High', 'Average'], dtype=object))"
            ]
          },
          "metadata": {},
          "execution_count": 72
        }
      ]
    },
    {
      "cell_type": "code",
      "source": [
        "from sklearn.preprocessing import OneHotEncoder\n",
        "\n",
        "lr=OneHotEncoder()\n",
        "lr.fit(y)\n",
        "lr.categories_\n",
        "y=lr.transform(y).toarray()\n",
        "y"
      ],
      "metadata": {
        "colab": {
          "base_uri": "https://localhost:8080/"
        },
        "id": "7XRYNZyHHJfJ",
        "outputId": "d8e19b6a-e26d-4bf6-e2b8-729d9db4eb85"
      },
      "execution_count": 73,
      "outputs": [
        {
          "output_type": "execute_result",
          "data": {
            "text/plain": [
              "array([[0., 0., 0., 1.],\n",
              "       [0., 1., 0., 0.],\n",
              "       [0., 1., 0., 0.],\n",
              "       ...,\n",
              "       [1., 0., 0., 0.],\n",
              "       [0., 0., 1., 0.],\n",
              "       [1., 0., 0., 0.]])"
            ]
          },
          "metadata": {},
          "execution_count": 73
        }
      ]
    },
    {
      "cell_type": "code",
      "source": [
        "from sklearn.preprocessing import OrdinalEncoder\n",
        "\n",
        "lst=[['Male', 'Female'],['No', 'Yes'],['No', 'Yes'],['Healthcare', 'Engineer', 'Lawyer', 'Artist', 'Doctor','Homemaker', 'Entertainment', 'Marketing', 'Executive'],['Low', 'High', 'Average']]\n",
        "\n",
        "enc = OrdinalEncoder(categories=lst)\n",
        "\n",
        "x[['Gender','Ever_Married','Graduated','Profession','Spending_Score']] = enc.fit_transform(x[['Gender',\n",
        "                                                                 'Ever_Married',\n",
        "                                                                 'Graduated','Profession',\n",
        "                                                                 'Spending_Score']])\n",
        "\n",
        "x=x.drop([\"Age\",\"Work_Experience\",\"Family_Size\"],axis=1)\n",
        "\n",
        "x=x.values"
      ],
      "metadata": {
        "id": "zmxYaWOkHQqE"
      },
      "execution_count": 74,
      "outputs": []
    },
    {
      "cell_type": "code",
      "source": [
        "from sklearn.model_selection import train_test_split\n",
        "\n",
        "X_train,X_test,y_train,y_test=train_test_split(x,y,\n",
        "                                               test_size=0.10,\n",
        "                                               random_state=50)\n",
        "\n",
        "model=tf.keras.Sequential([tf.keras.layers.Input(shape=(5,)),\n",
        "                           tf.keras.layers.Dense(4,activation=\"relu\"),\n",
        "                           tf.keras.layers.Dense(8,activation=\"relu\"),\n",
        "                           tf.keras.layers.Dense(16,activation=\"relu\"),\n",
        "                           tf.keras.layers.Dense(4,activation=\"softmax\")])"
      ],
      "metadata": {
        "id": "oLpYER7NHVUW"
      },
      "execution_count": 83,
      "outputs": []
    },
    {
      "cell_type": "code",
      "source": [
        "model.compile(optimizer=tf.keras.optimizers.Adam(),\n",
        "                 loss=tf.keras.losses.CategoricalCrossentropy(),\n",
        "                 metrics=['accuracy'])\n",
        "\n",
        "model.fit(X_train,y_train,epochs=100,validation_data=(X_test,y_test),batch_size=64)"
      ],
      "metadata": {
        "colab": {
          "base_uri": "https://localhost:8080/"
        },
        "id": "A-wQVHy3HY4c",
        "outputId": "a93f05b4-b326-43ff-8a37-1e9771bed7af"
      },
      "execution_count": 84,
      "outputs": [
        {
          "output_type": "stream",
          "name": "stdout",
          "text": [
            "Epoch 1/100\n",
            "125/125 [==============================] - 1s 3ms/step - loss: 1.3817 - accuracy: 0.2967 - val_loss: 1.3459 - val_accuracy: 0.3345\n",
            "Epoch 2/100\n",
            "125/125 [==============================] - 0s 2ms/step - loss: 1.3057 - accuracy: 0.3896 - val_loss: 1.2919 - val_accuracy: 0.3798\n",
            "Epoch 3/100\n",
            "125/125 [==============================] - 0s 2ms/step - loss: 1.2645 - accuracy: 0.4125 - val_loss: 1.2745 - val_accuracy: 0.4070\n",
            "Epoch 4/100\n",
            "125/125 [==============================] - 0s 2ms/step - loss: 1.2548 - accuracy: 0.4255 - val_loss: 1.2711 - val_accuracy: 0.4082\n",
            "Epoch 5/100\n",
            "125/125 [==============================] - 0s 2ms/step - loss: 1.2504 - accuracy: 0.4286 - val_loss: 1.2686 - val_accuracy: 0.4263\n",
            "Epoch 6/100\n",
            "125/125 [==============================] - 0s 2ms/step - loss: 1.2466 - accuracy: 0.4366 - val_loss: 1.2651 - val_accuracy: 0.4320\n",
            "Epoch 7/100\n",
            "125/125 [==============================] - 0s 2ms/step - loss: 1.2419 - accuracy: 0.4454 - val_loss: 1.2620 - val_accuracy: 0.4297\n",
            "Epoch 8/100\n",
            "125/125 [==============================] - 0s 2ms/step - loss: 1.2380 - accuracy: 0.4439 - val_loss: 1.2597 - val_accuracy: 0.4331\n",
            "Epoch 9/100\n",
            "125/125 [==============================] - 0s 2ms/step - loss: 1.2347 - accuracy: 0.4465 - val_loss: 1.2573 - val_accuracy: 0.4331\n",
            "Epoch 10/100\n",
            "125/125 [==============================] - 0s 2ms/step - loss: 1.2318 - accuracy: 0.4444 - val_loss: 1.2539 - val_accuracy: 0.4331\n",
            "Epoch 11/100\n",
            "125/125 [==============================] - 0s 2ms/step - loss: 1.2296 - accuracy: 0.4479 - val_loss: 1.2535 - val_accuracy: 0.4320\n",
            "Epoch 12/100\n",
            "125/125 [==============================] - 0s 2ms/step - loss: 1.2278 - accuracy: 0.4492 - val_loss: 1.2526 - val_accuracy: 0.4331\n",
            "Epoch 13/100\n",
            "125/125 [==============================] - 0s 2ms/step - loss: 1.2271 - accuracy: 0.4500 - val_loss: 1.2494 - val_accuracy: 0.4297\n",
            "Epoch 14/100\n",
            "125/125 [==============================] - 0s 2ms/step - loss: 1.2263 - accuracy: 0.4503 - val_loss: 1.2489 - val_accuracy: 0.4274\n",
            "Epoch 15/100\n",
            "125/125 [==============================] - 0s 2ms/step - loss: 1.2254 - accuracy: 0.4502 - val_loss: 1.2498 - val_accuracy: 0.4286\n",
            "Epoch 16/100\n",
            "125/125 [==============================] - 0s 2ms/step - loss: 1.2245 - accuracy: 0.4489 - val_loss: 1.2518 - val_accuracy: 0.4342\n",
            "Epoch 17/100\n",
            "125/125 [==============================] - 0s 2ms/step - loss: 1.2246 - accuracy: 0.4513 - val_loss: 1.2513 - val_accuracy: 0.4331\n",
            "Epoch 18/100\n",
            "125/125 [==============================] - 0s 2ms/step - loss: 1.2232 - accuracy: 0.4524 - val_loss: 1.2549 - val_accuracy: 0.4274\n",
            "Epoch 19/100\n",
            "125/125 [==============================] - 0s 2ms/step - loss: 1.2237 - accuracy: 0.4473 - val_loss: 1.2512 - val_accuracy: 0.4274\n",
            "Epoch 20/100\n",
            "125/125 [==============================] - 0s 2ms/step - loss: 1.2226 - accuracy: 0.4524 - val_loss: 1.2518 - val_accuracy: 0.4274\n",
            "Epoch 21/100\n",
            "125/125 [==============================] - 0s 2ms/step - loss: 1.2225 - accuracy: 0.4529 - val_loss: 1.2507 - val_accuracy: 0.4286\n",
            "Epoch 22/100\n",
            "125/125 [==============================] - 0s 2ms/step - loss: 1.2225 - accuracy: 0.4536 - val_loss: 1.2508 - val_accuracy: 0.4274\n",
            "Epoch 23/100\n",
            "125/125 [==============================] - 0s 2ms/step - loss: 1.2214 - accuracy: 0.4546 - val_loss: 1.2537 - val_accuracy: 0.4263\n",
            "Epoch 24/100\n",
            "125/125 [==============================] - 0s 2ms/step - loss: 1.2208 - accuracy: 0.4542 - val_loss: 1.2533 - val_accuracy: 0.4252\n",
            "Epoch 25/100\n",
            "125/125 [==============================] - 0s 2ms/step - loss: 1.2217 - accuracy: 0.4531 - val_loss: 1.2507 - val_accuracy: 0.4308\n",
            "Epoch 26/100\n",
            "125/125 [==============================] - 0s 2ms/step - loss: 1.2211 - accuracy: 0.4538 - val_loss: 1.2529 - val_accuracy: 0.4308\n",
            "Epoch 27/100\n",
            "125/125 [==============================] - 0s 2ms/step - loss: 1.2206 - accuracy: 0.4532 - val_loss: 1.2560 - val_accuracy: 0.4331\n",
            "Epoch 28/100\n",
            "125/125 [==============================] - 0s 2ms/step - loss: 1.2214 - accuracy: 0.4537 - val_loss: 1.2535 - val_accuracy: 0.4263\n",
            "Epoch 29/100\n",
            "125/125 [==============================] - 0s 2ms/step - loss: 1.2201 - accuracy: 0.4558 - val_loss: 1.2537 - val_accuracy: 0.4274\n",
            "Epoch 30/100\n",
            "125/125 [==============================] - 0s 2ms/step - loss: 1.2206 - accuracy: 0.4516 - val_loss: 1.2524 - val_accuracy: 0.4286\n",
            "Epoch 31/100\n",
            "125/125 [==============================] - 0s 2ms/step - loss: 1.2201 - accuracy: 0.4497 - val_loss: 1.2522 - val_accuracy: 0.4297\n",
            "Epoch 32/100\n",
            "125/125 [==============================] - 0s 2ms/step - loss: 1.2192 - accuracy: 0.4552 - val_loss: 1.2508 - val_accuracy: 0.4331\n",
            "Epoch 33/100\n",
            "125/125 [==============================] - 0s 2ms/step - loss: 1.2197 - accuracy: 0.4516 - val_loss: 1.2542 - val_accuracy: 0.4218\n",
            "Epoch 34/100\n",
            "125/125 [==============================] - 0s 2ms/step - loss: 1.2192 - accuracy: 0.4577 - val_loss: 1.2530 - val_accuracy: 0.4286\n",
            "Epoch 35/100\n",
            "125/125 [==============================] - 0s 2ms/step - loss: 1.2190 - accuracy: 0.4555 - val_loss: 1.2572 - val_accuracy: 0.4297\n",
            "Epoch 36/100\n",
            "125/125 [==============================] - 0s 2ms/step - loss: 1.2188 - accuracy: 0.4498 - val_loss: 1.2512 - val_accuracy: 0.4286\n",
            "Epoch 37/100\n",
            "125/125 [==============================] - 0s 2ms/step - loss: 1.2192 - accuracy: 0.4512 - val_loss: 1.2513 - val_accuracy: 0.4308\n",
            "Epoch 38/100\n",
            "125/125 [==============================] - 0s 2ms/step - loss: 1.2185 - accuracy: 0.4526 - val_loss: 1.2515 - val_accuracy: 0.4342\n",
            "Epoch 39/100\n",
            "125/125 [==============================] - 0s 2ms/step - loss: 1.2185 - accuracy: 0.4513 - val_loss: 1.2514 - val_accuracy: 0.4308\n",
            "Epoch 40/100\n",
            "125/125 [==============================] - 0s 2ms/step - loss: 1.2183 - accuracy: 0.4482 - val_loss: 1.2512 - val_accuracy: 0.4388\n",
            "Epoch 41/100\n",
            "125/125 [==============================] - 0s 2ms/step - loss: 1.2184 - accuracy: 0.4534 - val_loss: 1.2523 - val_accuracy: 0.4331\n",
            "Epoch 42/100\n",
            "125/125 [==============================] - 0s 2ms/step - loss: 1.2186 - accuracy: 0.4531 - val_loss: 1.2519 - val_accuracy: 0.4354\n",
            "Epoch 43/100\n",
            "125/125 [==============================] - 0s 2ms/step - loss: 1.2179 - accuracy: 0.4560 - val_loss: 1.2508 - val_accuracy: 0.4263\n",
            "Epoch 44/100\n",
            "125/125 [==============================] - 0s 2ms/step - loss: 1.2178 - accuracy: 0.4536 - val_loss: 1.2499 - val_accuracy: 0.4410\n",
            "Epoch 45/100\n",
            "125/125 [==============================] - 0s 2ms/step - loss: 1.2203 - accuracy: 0.4504 - val_loss: 1.2519 - val_accuracy: 0.4320\n",
            "Epoch 46/100\n",
            "125/125 [==============================] - 0s 2ms/step - loss: 1.2172 - accuracy: 0.4538 - val_loss: 1.2514 - val_accuracy: 0.4263\n",
            "Epoch 47/100\n",
            "125/125 [==============================] - 0s 2ms/step - loss: 1.2173 - accuracy: 0.4565 - val_loss: 1.2521 - val_accuracy: 0.4297\n",
            "Epoch 48/100\n",
            "125/125 [==============================] - 0s 2ms/step - loss: 1.2176 - accuracy: 0.4565 - val_loss: 1.2504 - val_accuracy: 0.4286\n",
            "Epoch 49/100\n",
            "125/125 [==============================] - 0s 2ms/step - loss: 1.2176 - accuracy: 0.4514 - val_loss: 1.2513 - val_accuracy: 0.4354\n",
            "Epoch 50/100\n",
            "125/125 [==============================] - 0s 2ms/step - loss: 1.2182 - accuracy: 0.4504 - val_loss: 1.2509 - val_accuracy: 0.4240\n",
            "Epoch 51/100\n",
            "125/125 [==============================] - 0s 2ms/step - loss: 1.2181 - accuracy: 0.4536 - val_loss: 1.2522 - val_accuracy: 0.4354\n",
            "Epoch 52/100\n",
            "125/125 [==============================] - 0s 2ms/step - loss: 1.2168 - accuracy: 0.4543 - val_loss: 1.2511 - val_accuracy: 0.4274\n",
            "Epoch 53/100\n",
            "125/125 [==============================] - 0s 2ms/step - loss: 1.2180 - accuracy: 0.4483 - val_loss: 1.2524 - val_accuracy: 0.4252\n",
            "Epoch 54/100\n",
            "125/125 [==============================] - 0s 2ms/step - loss: 1.2175 - accuracy: 0.4521 - val_loss: 1.2535 - val_accuracy: 0.4274\n",
            "Epoch 55/100\n",
            "125/125 [==============================] - 0s 2ms/step - loss: 1.2177 - accuracy: 0.4474 - val_loss: 1.2511 - val_accuracy: 0.4354\n",
            "Epoch 56/100\n",
            "125/125 [==============================] - 0s 2ms/step - loss: 1.2171 - accuracy: 0.4523 - val_loss: 1.2521 - val_accuracy: 0.4308\n",
            "Epoch 57/100\n",
            "125/125 [==============================] - 0s 2ms/step - loss: 1.2167 - accuracy: 0.4521 - val_loss: 1.2545 - val_accuracy: 0.4376\n",
            "Epoch 58/100\n",
            "125/125 [==============================] - 0s 2ms/step - loss: 1.2173 - accuracy: 0.4514 - val_loss: 1.2513 - val_accuracy: 0.4274\n",
            "Epoch 59/100\n",
            "125/125 [==============================] - 0s 2ms/step - loss: 1.2168 - accuracy: 0.4523 - val_loss: 1.2529 - val_accuracy: 0.4365\n",
            "Epoch 60/100\n",
            "125/125 [==============================] - 0s 2ms/step - loss: 1.2183 - accuracy: 0.4519 - val_loss: 1.2530 - val_accuracy: 0.4365\n",
            "Epoch 61/100\n",
            "125/125 [==============================] - 0s 2ms/step - loss: 1.2164 - accuracy: 0.4541 - val_loss: 1.2527 - val_accuracy: 0.4297\n",
            "Epoch 62/100\n",
            "125/125 [==============================] - 0s 2ms/step - loss: 1.2161 - accuracy: 0.4563 - val_loss: 1.2541 - val_accuracy: 0.4376\n",
            "Epoch 63/100\n",
            "125/125 [==============================] - 0s 2ms/step - loss: 1.2162 - accuracy: 0.4503 - val_loss: 1.2513 - val_accuracy: 0.4376\n",
            "Epoch 64/100\n",
            "125/125 [==============================] - 0s 2ms/step - loss: 1.2161 - accuracy: 0.4527 - val_loss: 1.2535 - val_accuracy: 0.4376\n",
            "Epoch 65/100\n",
            "125/125 [==============================] - 0s 2ms/step - loss: 1.2159 - accuracy: 0.4500 - val_loss: 1.2556 - val_accuracy: 0.4433\n",
            "Epoch 66/100\n",
            "125/125 [==============================] - 0s 2ms/step - loss: 1.2158 - accuracy: 0.4533 - val_loss: 1.2537 - val_accuracy: 0.4263\n",
            "Epoch 67/100\n",
            "125/125 [==============================] - 0s 2ms/step - loss: 1.2171 - accuracy: 0.4513 - val_loss: 1.2520 - val_accuracy: 0.4342\n",
            "Epoch 68/100\n",
            "125/125 [==============================] - 0s 2ms/step - loss: 1.2158 - accuracy: 0.4534 - val_loss: 1.2530 - val_accuracy: 0.4399\n",
            "Epoch 69/100\n",
            "125/125 [==============================] - 0s 2ms/step - loss: 1.2169 - accuracy: 0.4523 - val_loss: 1.2520 - val_accuracy: 0.4365\n",
            "Epoch 70/100\n",
            "125/125 [==============================] - 0s 2ms/step - loss: 1.2163 - accuracy: 0.4513 - val_loss: 1.2522 - val_accuracy: 0.4376\n",
            "Epoch 71/100\n",
            "125/125 [==============================] - 0s 2ms/step - loss: 1.2157 - accuracy: 0.4522 - val_loss: 1.2520 - val_accuracy: 0.4365\n",
            "Epoch 72/100\n",
            "125/125 [==============================] - 0s 2ms/step - loss: 1.2161 - accuracy: 0.4539 - val_loss: 1.2534 - val_accuracy: 0.4308\n",
            "Epoch 73/100\n",
            "125/125 [==============================] - 0s 2ms/step - loss: 1.2162 - accuracy: 0.4551 - val_loss: 1.2517 - val_accuracy: 0.4240\n",
            "Epoch 74/100\n",
            "125/125 [==============================] - 0s 2ms/step - loss: 1.2156 - accuracy: 0.4470 - val_loss: 1.2510 - val_accuracy: 0.4252\n",
            "Epoch 75/100\n",
            "125/125 [==============================] - 0s 2ms/step - loss: 1.2156 - accuracy: 0.4537 - val_loss: 1.2551 - val_accuracy: 0.4365\n",
            "Epoch 76/100\n",
            "125/125 [==============================] - 0s 2ms/step - loss: 1.2155 - accuracy: 0.4556 - val_loss: 1.2576 - val_accuracy: 0.4478\n",
            "Epoch 77/100\n",
            "125/125 [==============================] - 0s 2ms/step - loss: 1.2159 - accuracy: 0.4527 - val_loss: 1.2559 - val_accuracy: 0.4422\n",
            "Epoch 78/100\n",
            "125/125 [==============================] - 0s 2ms/step - loss: 1.2154 - accuracy: 0.4521 - val_loss: 1.2544 - val_accuracy: 0.4365\n",
            "Epoch 79/100\n",
            "125/125 [==============================] - 0s 2ms/step - loss: 1.2158 - accuracy: 0.4522 - val_loss: 1.2530 - val_accuracy: 0.4433\n",
            "Epoch 80/100\n",
            "125/125 [==============================] - 0s 2ms/step - loss: 1.2150 - accuracy: 0.4539 - val_loss: 1.2527 - val_accuracy: 0.4376\n",
            "Epoch 81/100\n",
            "125/125 [==============================] - 0s 2ms/step - loss: 1.2152 - accuracy: 0.4526 - val_loss: 1.2536 - val_accuracy: 0.4263\n",
            "Epoch 82/100\n",
            "125/125 [==============================] - 0s 2ms/step - loss: 1.2151 - accuracy: 0.4479 - val_loss: 1.2528 - val_accuracy: 0.4308\n",
            "Epoch 83/100\n",
            "125/125 [==============================] - 0s 2ms/step - loss: 1.2158 - accuracy: 0.4527 - val_loss: 1.2558 - val_accuracy: 0.4433\n",
            "Epoch 84/100\n",
            "125/125 [==============================] - 0s 2ms/step - loss: 1.2154 - accuracy: 0.4484 - val_loss: 1.2525 - val_accuracy: 0.4308\n",
            "Epoch 85/100\n",
            "125/125 [==============================] - 0s 2ms/step - loss: 1.2150 - accuracy: 0.4534 - val_loss: 1.2565 - val_accuracy: 0.4444\n",
            "Epoch 86/100\n",
            "125/125 [==============================] - 0s 2ms/step - loss: 1.2154 - accuracy: 0.4480 - val_loss: 1.2551 - val_accuracy: 0.4433\n",
            "Epoch 87/100\n",
            "125/125 [==============================] - 0s 2ms/step - loss: 1.2150 - accuracy: 0.4517 - val_loss: 1.2536 - val_accuracy: 0.4444\n",
            "Epoch 88/100\n",
            "125/125 [==============================] - 0s 2ms/step - loss: 1.2148 - accuracy: 0.4517 - val_loss: 1.2548 - val_accuracy: 0.4297\n",
            "Epoch 89/100\n",
            "125/125 [==============================] - 0s 2ms/step - loss: 1.2146 - accuracy: 0.4523 - val_loss: 1.2538 - val_accuracy: 0.4467\n",
            "Epoch 90/100\n",
            "125/125 [==============================] - 0s 2ms/step - loss: 1.2148 - accuracy: 0.4509 - val_loss: 1.2530 - val_accuracy: 0.4422\n",
            "Epoch 91/100\n",
            "125/125 [==============================] - 0s 2ms/step - loss: 1.2155 - accuracy: 0.4505 - val_loss: 1.2522 - val_accuracy: 0.4422\n",
            "Epoch 92/100\n",
            "125/125 [==============================] - 0s 2ms/step - loss: 1.2145 - accuracy: 0.4542 - val_loss: 1.2539 - val_accuracy: 0.4274\n",
            "Epoch 93/100\n",
            "125/125 [==============================] - 0s 2ms/step - loss: 1.2145 - accuracy: 0.4565 - val_loss: 1.2536 - val_accuracy: 0.4410\n",
            "Epoch 94/100\n",
            "125/125 [==============================] - 0s 2ms/step - loss: 1.2149 - accuracy: 0.4532 - val_loss: 1.2516 - val_accuracy: 0.4422\n",
            "Epoch 95/100\n",
            "125/125 [==============================] - 0s 2ms/step - loss: 1.2147 - accuracy: 0.4546 - val_loss: 1.2530 - val_accuracy: 0.4376\n",
            "Epoch 96/100\n",
            "125/125 [==============================] - 0s 2ms/step - loss: 1.2138 - accuracy: 0.4502 - val_loss: 1.2521 - val_accuracy: 0.4410\n",
            "Epoch 97/100\n",
            "125/125 [==============================] - 0s 2ms/step - loss: 1.2145 - accuracy: 0.4500 - val_loss: 1.2529 - val_accuracy: 0.4388\n",
            "Epoch 98/100\n",
            "125/125 [==============================] - 0s 2ms/step - loss: 1.2139 - accuracy: 0.4548 - val_loss: 1.2515 - val_accuracy: 0.4376\n",
            "Epoch 99/100\n",
            "125/125 [==============================] - 0s 2ms/step - loss: 1.2137 - accuracy: 0.4492 - val_loss: 1.2548 - val_accuracy: 0.4433\n",
            "Epoch 100/100\n",
            "125/125 [==============================] - 0s 2ms/step - loss: 1.2140 - accuracy: 0.4509 - val_loss: 1.2536 - val_accuracy: 0.4342\n"
          ]
        },
        {
          "output_type": "execute_result",
          "data": {
            "text/plain": [
              "<keras.callbacks.History at 0x7fac97346f50>"
            ]
          },
          "metadata": {},
          "execution_count": 84
        }
      ]
    },
    {
      "cell_type": "code",
      "source": [
        "pd.DataFrame(model.history.history).plot()"
      ],
      "metadata": {
        "colab": {
          "base_uri": "https://localhost:8080/",
          "height": 282
        },
        "id": "GJTCzxXDHbMb",
        "outputId": "20787ab9-c21d-4c6f-ba0c-8092582a185e"
      },
      "execution_count": 85,
      "outputs": [
        {
          "output_type": "execute_result",
          "data": {
            "text/plain": [
              "<matplotlib.axes._subplots.AxesSubplot at 0x7fac9753b390>"
            ]
          },
          "metadata": {},
          "execution_count": 85
        },
        {
          "output_type": "display_data",
          "data": {
            "text/plain": [
              "<Figure size 432x288 with 1 Axes>"
            ],
            "image/png": "[encoded data removed]"
          },
          "metadata": {
            "needs_background": "light"
          }
        }
      ]
    },
    {
      "cell_type": "code",
      "source": [
        "y_preds=tf.argmax(model.predict(X_test),axis=1)"
      ],
      "metadata": {
        "id": "MF_1OSPeHhT7"
      },
      "execution_count": 86,
      "outputs": []
    },
    {
      "cell_type": "code",
      "source": [
        "import sklearn\n",
        "\n",
        "sklearn.metrics.classification_report(tf.argmax(y_test,axis=1),y_preds)\n",
        "\n",
        "sklearn.metrics.confusion_matrix(tf.argmax(y_test,axis=1),y_preds)\n",
        "\n",
        "tf.argmax(model.predict([[0., 0., 0., 6., 0.]]),axis=1)"
      ],
      "metadata": {
        "colab": {
          "base_uri": "https://localhost:8080/"
        },
        "id": "2mfyFQw6Hk6S",
        "outputId": "d2e16929-1b00-46a9-d6bf-3614d29f144e"
      },
      "execution_count": 87,
      "outputs": [
        {
          "output_type": "execute_result",
          "data": {
            "text/plain": [
              "<tf.Tensor: shape=(1,), dtype=int64, numpy=array([3])>"
            ]
          },
          "metadata": {},
          "execution_count": 87
        }
      ]
    },
    {
      "cell_type": "code",
      "source": [],
      "metadata": {
        "id": "uu8_hxDRHmf1"
      },
      "execution_count": 87,
      "outputs": []
    }
  ],
  "metadata": {
    "colab": {
      "collapsed_sections": [],
      "provenance": []
    },
    "kernelspec": {
      "display_name": "Python 3",
      "name": "python3"
    },
    "language_info": {
      "name": "python"
    }
  },
  "nbformat": 4,
  "nbformat_minor": 0
}